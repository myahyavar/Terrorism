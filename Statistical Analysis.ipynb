{
 "cells": [
  {
   "cell_type": "code",
   "execution_count": 1,
   "metadata": {},
   "outputs": [],
   "source": [
    "import pandas as pd\n",
    "import math\n",
    "\n",
    "mainData = pd.read_csv(\"/Users/Yahya/Desktop/CE/JpyNote/Statistics Project/globalterrorismdb_0718dist.csv\", engine='python')\n",
    "mainData=mainData.rename(columns={'iyear': 'year' })\n",
    "year=mainData.year"
   ]
  },
  {
   "cell_type": "code",
   "execution_count": 2,
   "metadata": {},
   "outputs": [
    {
     "data": {
      "text/plain": [
       "2002.6389969783863"
      ]
     },
     "execution_count": 2,
     "metadata": {},
     "output_type": "execute_result"
    }
   ],
   "source": [
    "def Mean(data):\n",
    "    mean=sum(data)/len(data)\n",
    "    return(mean)\n",
    "\n",
    "Mean(year)"
   ]
  },
  {
   "cell_type": "code",
   "execution_count": 3,
   "metadata": {},
   "outputs": [
    {
     "data": {
      "text/plain": [
       "2009"
      ]
     },
     "execution_count": 3,
     "metadata": {},
     "output_type": "execute_result"
    }
   ],
   "source": [
    "def Median(data):\n",
    "    sortedData=data.sort_values()\n",
    "    length = len(sortedData)\n",
    "    if length % 2 == 0:\n",
    "        tempFirst = sortedData[int(length/2)]\n",
    "        tempSecond = sortedData[int(length/2)-1]\n",
    "        median=(tempFirst + tempSecond)/2\n",
    "        return(median)\n",
    "    else:\n",
    "        median=sortedData[int(length/2)]\n",
    "        return(median)\n",
    "        \n",
    "Median(year)"
   ]
  },
  {
   "cell_type": "code",
   "execution_count": 4,
   "metadata": {},
   "outputs": [
    {
     "data": {
      "text/plain": [
       "'left-skewed'"
      ]
     },
     "execution_count": 4,
     "metadata": {},
     "output_type": "execute_result"
    }
   ],
   "source": [
    "def Shape(data):\n",
    "    if Mean(data)==Median(data):\n",
    "        return \"symmetric\"\n",
    "    if Mean(data)>Median(data):\n",
    "        return \"right-skewed\"\n",
    "    if Mean(data)<Median(data):\n",
    "        return \"left-skewed\"\n",
    "    \n",
    "Shape(year)"
   ]
  },
  {
   "cell_type": "code",
   "execution_count": 5,
   "metadata": {},
   "outputs": [
    {
     "data": {
      "text/plain": [
       "175.8115286439676"
      ]
     },
     "execution_count": 5,
     "metadata": {},
     "output_type": "execute_result"
    }
   ],
   "source": [
    "def Variance(data):\n",
    "    length = len(data)\n",
    "    mean=Mean(data)\n",
    "    deviations = [pow((x - mean),2) for x in data]\n",
    "    variance = sum(deviations) / length\n",
    "    return variance\n",
    "\n",
    "Variance(year)"
   ]
  },
  {
   "cell_type": "code",
   "execution_count": 6,
   "metadata": {},
   "outputs": [
    {
     "data": {
      "text/plain": [
       "13.259393977251284"
      ]
     },
     "execution_count": 6,
     "metadata": {},
     "output_type": "execute_result"
    }
   ],
   "source": [
    "def Stdev(data):\n",
    "    variance = Variance(data)\n",
    "    stdDev = math.sqrt(variance)\n",
    "    return stdDev\n",
    "\n",
    "Stdev(year)"
   ]
  },
  {
   "cell_type": "code",
   "execution_count": 7,
   "metadata": {},
   "outputs": [
    {
     "data": {
      "text/plain": [
       "0.031106916785692926"
      ]
     },
     "execution_count": 7,
     "metadata": {},
     "output_type": "execute_result"
    }
   ],
   "source": [
    "def StanErr(data):\n",
    "    stdDev=Stdev(data)\n",
    "    length = len(data)\n",
    "    stanErr=stdDev/math.sqrt(length)\n",
    "    return stanErr\n",
    "\n",
    "StanErr(year)"
   ]
  },
  {
   "cell_type": "code",
   "execution_count": 8,
   "metadata": {},
   "outputs": [
    {
     "data": {
      "text/plain": [
       "'No outlier found on data.'"
      ]
     },
     "execution_count": 8,
     "metadata": {},
     "output_type": "execute_result"
    }
   ],
   "source": [
    "def Outlier(data):\n",
    "    outliers=[]\n",
    "    outCount=0\n",
    "    sortedData=data.sort_values()\n",
    "    Q1=sortedData[int((len(sortedData)+1)/4)]\n",
    "    Q3=sortedData[int((len(sortedData)*3)/4)]\n",
    "    IQR = Q3-Q1\n",
    "    lower = Q1-(1.5*(IQR))\n",
    "    upper = Q3+(1.5*(IQR))\n",
    "    for x in sortedData:\n",
    "        if x < lower or x > upper:\n",
    "            outliers.append(x)\n",
    "            outCount+=1\n",
    "    if outCount==0:\n",
    "        return \"No outlier found on data.\"\n",
    "    else:\n",
    "        return \"Number of outliers: \", outCount, outliers\n",
    "    \n",
    "\n",
    "Outlier(year)"
   ]
  },
  {
   "cell_type": "code",
   "execution_count": 9,
   "metadata": {
    "scrolled": true
   },
   "outputs": [
    {
     "data": {
      "image/png": "[encoded data removed]",
      "text/plain": [
       "<Figure size 720x288 with 1 Axes>"
      ]
     },
     "metadata": {
      "needs_background": "light"
     },
     "output_type": "display_data"
    }
   ],
   "source": [
    "def drawHist(data):\n",
    "    edt =data.hist(bins=24, grid=True, figsize=(10,4), color='#86bf91', zorder=4, rwidth=0.92)\n",
    "    edt.set_title(\"Terrorist Attacks\", size=20)\n",
    "    edt.set_xlabel(\"Year\", labelpad=10, size=20)\n",
    "    edt.set_ylabel(\"No. of Attacks\", labelpad=10, size=20)\n",
    "    \n",
    "drawHist(year)"
   ]
  },
  {
   "cell_type": "code",
   "execution_count": null,
   "metadata": {},
   "outputs": [],
   "source": [
    "def drawBoxByMainData(data):\n",
    "    string = input()\n",
    "    data.boxplot(column=string,rot=45,fontsize=15,figsize=(8,5))\n",
    "    \n",
    "drawBoxByMainData(mainData)"
   ]
  },
  {
   "cell_type": "code",
   "execution_count": 94,
   "metadata": {},
   "outputs": [
    {
     "data": {
      "text/plain": [
       "('of sample mean=',\n",
       " (2002.4768162874075, 2002.7092637125925),\n",
       " 'of sample variance=',\n",
       " (175.9400398458199, 176.1724872710048))"
      ]
     },
     "execution_count": 94,
     "metadata": {},
     "output_type": "execute_result"
    }
   ],
   "source": [
    "def findConfidenceInterval95(data,n):\n",
    "    conf=1.96\n",
    "    datan=data.sample(n)\n",
    "    m=Mean(datan)\n",
    "    v=Variance(datan)\n",
    "    stdDev=Stdev(data)\n",
    "    se=stdDev/math.sqrt(n)\n",
    "    he=se*conf\n",
    "    return\"of sample mean=\",(m-he, m+he),\"of sample variance=\",(v-he, v+he)\n",
    "\n",
    "findConfidenceInterval95(year,50000)"
   ]
  },
  {
   "cell_type": "code",
   "execution_count": 97,
   "metadata": {},
   "outputs": [
    {
     "data": {
      "text/plain": [
       "47576"
      ]
     },
     "execution_count": 97,
     "metadata": {},
     "output_type": "execute_result"
    }
   ],
   "source": [
    "def findSample01marg90(data):\n",
    "    marg=0.1\n",
    "    conf=1.645\n",
    "    stdDev=Stdev(data)\n",
    "    nmin=pow(((conf*stdDev)/marg),2)\n",
    "    return int(nmin)+1\n",
    "\n",
    "findSample01marg90(year)\n",
    "    \n",
    "    "
   ]
  },
  {
   "cell_type": "code",
   "execution_count": null,
   "metadata": {},
   "outputs": [],
   "source": []
  }
 ],
 "metadata": {
  "kernelspec": {
   "display_name": "Python 3",
   "language": "python",
   "name": "python3"
  },
  "language_info": {
   "codemirror_mode": {
    "name": "ipython",
    "version": 3
   },
   "file_extension": ".py",
   "mimetype": "text/x-python",
   "name": "python",
   "nbconvert_exporter": "python",
   "pygments_lexer": "ipython3",
   "version": "3.8.8"
  }
 },
 "nbformat": 4,
 "nbformat_minor": 4
}
